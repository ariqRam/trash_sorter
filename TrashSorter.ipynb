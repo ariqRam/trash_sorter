{
  "nbformat": 4,
  "nbformat_minor": 0,
  "metadata": {
    "colab": {
      "name": "TrashSorter",
      "provenance": [],
      "machine_shape": "hm"
    },
    "kernelspec": {
      "name": "python3",
      "display_name": "Python 3"
    }
  },
  "cells": [
    {
      "cell_type": "code",
      "metadata": {
        "id": "9QGJo3AhE7BS",
        "colab_type": "code",
        "colab": {}
      },
      "source": [
        "import tensorflow as tf\n",
        "import numpy as np\n",
        "import os"
      ],
      "execution_count": 0,
      "outputs": []
    },
    {
      "cell_type": "code",
      "metadata": {
        "id": "Dgg70Tl2GeHI",
        "colab_type": "code",
        "colab": {}
      },
      "source": [
        "!mkdir \"trash-data\""
      ],
      "execution_count": 0,
      "outputs": []
    },
    {
      "cell_type": "code",
      "metadata": {
        "id": "YWaV_tP_Bnfw",
        "colab_type": "code",
        "outputId": "2e5cb125-1030-4bfb-9b4f-bea84b92e8a1",
        "colab": {
          "base_uri": "https://localhost:8080/",
          "height": 245
        }
      },
      "source": [
        "!wget --no-check-certificate \\\n",
        "  https://c7.alamy.com/comp/BY9H2A/a-bottle-of-red-wine-in-a-spanish-holiday-hotel-with-compliments-of-BY9H2A.jpg \\\n",
        "  -O haha.jpg"
      ],
      "execution_count": 0,
      "outputs": [
        {
          "output_type": "stream",
          "text": [
            "--2019-10-27 11:57:51--  https://c7.alamy.com/comp/BY9H2A/a-bottle-of-red-wine-in-a-spanish-holiday-hotel-with-compliments-of-BY9H2A.jpg\n",
            "Resolving c7.alamy.com (c7.alamy.com)... 99.84.254.73, 99.84.254.110, 99.84.254.126, ...\n",
            "Connecting to c7.alamy.com (c7.alamy.com)|99.84.254.73|:443... connected.\n",
            "HTTP request sent, awaiting response... 200 OK\n",
            "Length: unspecified [image/jpeg]\n",
            "Saving to: ‘haha.jpg’\n",
            "\n",
            "\rhaha.jpg                [<=>                 ]       0  --.-KB/s               \rhaha.jpg                [ <=>                ]  77.04K  --.-KB/s    in 0.1s    \n",
            "\n",
            "Last-modified header invalid -- time-stamp ignored.\n",
            "2019-10-27 11:57:52 (728 KB/s) - ‘haha.jpg’ saved [78893]\n",
            "\n"
          ],
          "name": "stdout"
        }
      ]
    },
    {
      "cell_type": "code",
      "metadata": {
        "id": "jOPEUoLG0naP",
        "colab_type": "code",
        "outputId": "56781a62-3f14-4827-f1f5-5722d0423319",
        "colab": {
          "base_uri": "https://localhost:8080/",
          "height": 315
        }
      },
      "source": [
        "!wget --no-check-certificate \\\n",
        "  https://github.com/garythung/trashnet/raw/master/data/dataset-resized.zip \\\n",
        "  -O trash-data/dataset-resized.zip"
      ],
      "execution_count": 0,
      "outputs": [
        {
          "output_type": "stream",
          "text": [
            "--2019-10-27 07:24:46--  https://github.com/garythung/trashnet/raw/master/data/dataset-resized.zip\n",
            "Resolving github.com (github.com)... 140.82.114.4\n",
            "Connecting to github.com (github.com)|140.82.114.4|:443... connected.\n",
            "HTTP request sent, awaiting response... 302 Found\n",
            "Location: https://raw.githubusercontent.com/garythung/trashnet/master/data/dataset-resized.zip [following]\n",
            "--2019-10-27 07:24:47--  https://raw.githubusercontent.com/garythung/trashnet/master/data/dataset-resized.zip\n",
            "Resolving raw.githubusercontent.com (raw.githubusercontent.com)... 151.101.0.133, 151.101.64.133, 151.101.128.133, ...\n",
            "Connecting to raw.githubusercontent.com (raw.githubusercontent.com)|151.101.0.133|:443... connected.\n",
            "HTTP request sent, awaiting response... 200 OK\n",
            "Length: 42834870 (41M) [application/zip]\n",
            "Saving to: ‘trash-data/dataset-resized.zip’\n",
            "\n",
            "trash-data/dataset- 100%[===================>]  40.85M   129MB/s    in 0.3s    \n",
            "\n",
            "2019-10-27 07:24:48 (129 MB/s) - ‘trash-data/dataset-resized.zip’ saved [42834870/42834870]\n",
            "\n"
          ],
          "name": "stdout"
        }
      ]
    },
    {
      "cell_type": "code",
      "metadata": {
        "id": "_RrraSk20tNT",
        "colab_type": "code",
        "colab": {}
      },
      "source": [
        "import os\n",
        "import zipfile\n",
        "\n",
        "local_zip = 'trash-data/dataset-resized.zip'\n",
        "zip_ref = zipfile.ZipFile(local_zip, 'r')\n",
        "zip_ref.extractall('trash-data')\n",
        "zip_ref.close()"
      ],
      "execution_count": 0,
      "outputs": []
    },
    {
      "cell_type": "code",
      "metadata": {
        "id": "2Nqt46I21Wcp",
        "colab_type": "code",
        "colab": {}
      },
      "source": [
        "path = 'trash-data/train'\n",
        "path2 = 'trash-data/validation'\n",
        "\n",
        "if not os.path.isfile(path):\n",
        "  os.mkdir(path)\n",
        "  \n",
        "if not os.path.isfile(path2):\n",
        "  os.mkdir(path2)"
      ],
      "execution_count": 0,
      "outputs": []
    },
    {
      "cell_type": "code",
      "metadata": {
        "id": "T8NUMQN_tnO1",
        "colab_type": "code",
        "colab": {}
      },
      "source": [
        "for i in range(6):\n",
        "  os.mkdir(os.path.join(path,str(i)))\n",
        "  "
      ],
      "execution_count": 0,
      "outputs": []
    },
    {
      "cell_type": "code",
      "metadata": {
        "id": "C4Pm8ZQ8n3dD",
        "colab_type": "code",
        "colab": {}
      },
      "source": [
        "for i in range(6):\n",
        "  os.mkdir(os.path.join(path2,str(i)))"
      ],
      "execution_count": 0,
      "outputs": []
    },
    {
      "cell_type": "code",
      "metadata": {
        "id": "z6LFS2WIufyy",
        "colab_type": "code",
        "colab": {}
      },
      "source": [
        "import shutil\n",
        "\n",
        "data_path = 'trash-data/dataset-resized'\n",
        "dst_path = 'trash-data/validation'\n",
        "dst_path_trn = 'trash-data/train'\n",
        "dirs = os.listdir(data_path)\n",
        "\n",
        "x=0\n",
        "for i in dirs:\n",
        "  p = os.path.join(data_path, i)\n",
        "  for subdir, dirs, files in os.walk(p):\n",
        "    length = len(files)\n",
        "    amt_val = round(0.2 * length)\n",
        "    val = files[0:amt_val]\n",
        "    trn = files[amt_val:]\n",
        "    for paths in val:\n",
        "      PATH = os.path.join(p, paths)\n",
        "      dst = os.path.join(dst_path, str(x))\n",
        "      shutil.copy(PATH,dst)\n",
        "    for paths in trn:\n",
        "      PATH = os.path.join(p, paths)\n",
        "      dst = os.path.join(dst_path_trn, str(x))\n",
        "      shutil.copy(PATH,dst)\n",
        "    x+=1"
      ],
      "execution_count": 0,
      "outputs": []
    },
    {
      "cell_type": "code",
      "metadata": {
        "id": "L8RmtLpHNm16",
        "colab_type": "code",
        "colab": {}
      },
      "source": [
        "def create_model():\n",
        "  model = tf.keras.models.Sequential()\n",
        "  model.add(tf.keras.layers.BatchNormalization(input_shape=train_set.shape[1:]))\n",
        "  model.add(tf.keras.layers.Conv2D(64, (5, 5), padding='same', activation='elu'))\n",
        "  model.add(tf.keras.layers.MaxPooling2D(pool_size=(2, 2), strides=(2,2)))\n",
        "  model.add(tf.keras.layers.Dropout(0.25))\n",
        "\n",
        "  model.add(tf.keras.layers.BatchNormalization(input_shape=train_set.shape[1:]))\n",
        "  model.add(tf.keras.layers.Conv2D(128, (5, 5), padding='same', activation='elu'))\n",
        "  model.add(tf.keras.layers.MaxPooling2D(pool_size=(2, 2)))\n",
        "  model.add(tf.keras.layers.Dropout(0.25))\n",
        "\n",
        "  model.add(tf.keras.layers.BatchNormalization(input_shape=train_set.shape[1:]))\n",
        "  model.add(tf.keras.layers.Conv2D(256, (5, 5), padding='same', activation='elu'))\n",
        "  model.add(tf.keras.layers.MaxPooling2D(pool_size=(2, 2), strides=(2,2)))\n",
        "  model.add(tf.keras.layers.Dropout(0.25))\n",
        "\n",
        "  model.add(tf.keras.layers.Flatten())\n",
        "  model.add(tf.keras.layers.Dense(256))\n",
        "  model.add(tf.keras.layers.Activation('elu'))\n",
        "  model.add(tf.keras.layers.Dropout(0.5))\n",
        "  model.add(tf.keras.layers.Dense(10))\n",
        "  model.add(tf.keras.layers.Activation('softmax'))\n",
        "  return model"
      ],
      "execution_count": 0,
      "outputs": []
    },
    {
      "cell_type": "code",
      "metadata": {
        "id": "sOuROnFj5Ws2",
        "colab_type": "code",
        "colab": {}
      },
      "source": [
        "import cv2\n",
        "import os\n",
        "from tensorflow.keras.preprocessing.image import load_img, img_to_array\n",
        "\n",
        "data_path = 'trash-data/dataset-resized'\n",
        "dirs = os.listdir(data_path)\n",
        "\n",
        "valid_ = []\n",
        "train_ = []\n",
        "\n",
        "\n",
        "for i in dirs:\n",
        "  p = os.path.join(data_path, i)\n",
        "  for subdir, dirs, files in os.walk(p):\n",
        "    length = len(files)\n",
        "    amt_val = round(0.2*length)\n",
        "    val = files[0:amt_val]\n",
        "    trn = files[amt_val:]\n",
        "    for paths in val:\n",
        "      PATH = os.path.join(p,paths)\n",
        "      img = cv2.imread(PATH,0)\n",
        "      resized = cv2.resize(img, (28,28), interpolation=cv2.INTER_NEAREST)\n",
        "      reshaped = resized.reshape(28,28,1)\n",
        "      valid_.append(reshaped)\n",
        "    for paths in trn:\n",
        "      PATH = os.path.join(p,paths)\n",
        "      img = cv2.imread(PATH,0)\n",
        "      resized = cv2.resize(img, (28,28), interpolation=cv2.INTER_NEAREST)\n",
        "      reshaped = resized.reshape(28,28,1)\n",
        "      train_.append(reshaped)\n",
        "\n",
        "train_set = np.asarray(train_)\n",
        "valid_set = np.asarray(valid_)"
      ],
      "execution_count": 0,
      "outputs": []
    },
    {
      "cell_type": "code",
      "metadata": {
        "id": "PWEhKROm9xIO",
        "colab_type": "code",
        "outputId": "fa1ae2a2-111e-44c3-f689-ac632022c580",
        "colab": {
          "base_uri": "https://localhost:8080/",
          "height": 34
        }
      },
      "source": [
        "from PIL import Image\n",
        "\n",
        "type(train_set)"
      ],
      "execution_count": 0,
      "outputs": [
        {
          "output_type": "execute_result",
          "data": {
            "text/plain": [
              "numpy.ndarray"
            ]
          },
          "metadata": {
            "tags": []
          },
          "execution_count": 172
        }
      ]
    },
    {
      "cell_type": "code",
      "metadata": {
        "id": "kJD42N0hBtOn",
        "colab_type": "code",
        "colab": {}
      },
      "source": [
        "x=0\n",
        "\n",
        "dirs = os.listdir(data_path)\n",
        "\n",
        "\n",
        "train_label = []\n",
        "valid_label = []\n",
        "for i in dirs:\n",
        "  p = os.path.join(data_path, i)\n",
        "  for subdir, dirs, files in os.walk(p):\n",
        "    length = len(files)\n",
        "    amt_val = round(0.2 * length)\n",
        "    val = files[0:amt_val]\n",
        "    trn = files[amt_val:]\n",
        "    for paths in val:\n",
        "      valid_label.append(x)\n",
        "    for paths in trn:\n",
        "      train_label.append(x)\n",
        "    x+=1\n",
        "\n",
        "train_label = np.asarray(trhttps://www.google.com/search?client=ubuntu&channel=fs&q=displaying+1dimensional+image+python&ie=utf-8&oe=utf-8ain_label)\n",
        "valid_label = np.asarray(valid_label)"
      ],
      "execution_count": 0,
      "outputs": []
    },
    {
      "cell_type": "code",
      "metadata": {
        "id": "2iCtM_5ICJw8",
        "colab_type": "code",
        "outputId": "d440e114-fd51-4933-93cc-12e3f52dac4d",
        "colab": {
          "base_uri": "https://localhost:8080/",
          "height": 34
        }
      },
      "source": [
        "print(train_label.shape)"
      ],
      "execution_count": 0,
      "outputs": [
        {
          "output_type": "stream",
          "text": [
            "(2022,)\n"
          ],
          "name": "stdout"
        }
      ]
    },
    {
      "cell_type": "code",
      "metadata": {
        "id": "B6Gp_vkDEKvB",
        "colab_type": "code",
        "outputId": "10eba290-c3b2-4fab-b1ec-015a15e0b232",
        "colab": {
          "base_uri": "https://localhost:8080/",
          "height": 402
        }
      },
      "source": [
        "import os\n",
        "\n",
        "\n",
        "model = create_model()\n",
        "model.compile(\n",
        "    optimizer=tf.keras.optimizers.Adam(learning_rate=0.003, ),\n",
        "    loss='sparse_categorical_crossentropy',\n",
        "    metrics=['sparse_categorical_accuracy'])\n",
        "\n",
        "model.fit(\n",
        "    train_set.astype(np.float32), train_label.astype(np.float32),\n",
        "    epochs=10,\n",
        "    batch_size=50,\n",
        "    validation_data=(valid_set.astype(np.float32), valid_label.astype(np.float32)),\n",
        "    validation_freq=3\n",
        ")\n",
        "\n",
        "model.save_weights('./trash_sorter.h5', overwrite=True)"
      ],
      "execution_count": 0,
      "outputs": [
        {
          "output_type": "stream",
          "text": [
            "Train on 2022 samples, validate on 505 samples\n",
            "Epoch 1/10\n",
            "2022/2022 [==============================] - 14s 7ms/sample - loss: 4.3611 - sparse_categorical_accuracy: 0.2809\n",
            "Epoch 2/10\n",
            "2022/2022 [==============================] - 14s 7ms/sample - loss: 1.9733 - sparse_categorical_accuracy: 0.3215\n",
            "Epoch 3/10\n",
            "2022/2022 [==============================] - 16s 8ms/sample - loss: 1.8603 - sparse_categorical_accuracy: 0.3408 - val_loss: 3.8807 - val_sparse_categorical_accuracy: 0.2752\n",
            "Epoch 4/10\n",
            "2022/2022 [==============================] - 14s 7ms/sample - loss: 1.7694 - sparse_categorical_accuracy: 0.3630\n",
            "Epoch 5/10\n",
            "2022/2022 [==============================] - 14s 7ms/sample - loss: 1.7055 - sparse_categorical_accuracy: 0.3724\n",
            "Epoch 6/10\n",
            "2022/2022 [==============================] - 15s 7ms/sample - loss: 1.6293 - sparse_categorical_accuracy: 0.4065 - val_loss: 1.7828 - val_sparse_categorical_accuracy: 0.4040\n",
            "Epoch 7/10\n",
            "2022/2022 [==============================] - 14s 7ms/sample - loss: 1.6343 - sparse_categorical_accuracy: 0.3670\n",
            "Epoch 8/10\n",
            "2022/2022 [==============================] - 14s 7ms/sample - loss: 1.5140 - sparse_categorical_accuracy: 0.4199\n",
            "Epoch 9/10\n",
            "2022/2022 [==============================] - 15s 7ms/sample - loss: 1.4961 - sparse_categorical_accuracy: 0.4278 - val_loss: 1.4100 - val_sparse_categorical_accuracy: 0.4792\n",
            "Epoch 10/10\n",
            "2022/2022 [==============================] - 14s 7ms/sample - loss: 1.5203 - sparse_categorical_accuracy: 0.4258\n"
          ],
          "name": "stdout"
        }
      ]
    },
    {
      "cell_type": "code",
      "metadata": {
        "id": "Ma2PIQ6wJEV6",
        "colab_type": "code",
        "colab": {}
      },
      "source": [
        "trash_sorter = create_model()\n",
        "trash_sorter.load_weights('./trash_sorter.h5')\n",
        "\n",
        "preds = trash_sorter.predict(valid_set)\n"
      ],
      "execution_count": 0,
      "outputs": []
    },
    {
      "cell_type": "code",
      "metadata": {
        "id": "LWblDXzvmQmZ",
        "colab_type": "code",
        "outputId": "07367195-a4d3-4cfb-8423-340539b26884",
        "colab": {
          "base_uri": "https://localhost:8080/",
          "height": 490
        }
      },
      "source": [
        "LABEL_NAMES = ['glass','cardboard', 'paper', 'trash', 'metal', 'plastic']\n",
        "\n",
        "\n",
        "from matplotlib import pyplot\n",
        "%matplotlib inline\n",
        "\n",
        "def plot_predictions(images, predictions):\n",
        "  n = images.shape[0]\n",
        "  nc = int(np.ceil(n / 4))\n",
        "  f, axes = pyplot.subplots(nc, 4)\n",
        "  for i in range(nc * 4):\n",
        "    y = i // 4\n",
        "    x = i % 4\n",
        "    axes[x, y].axis('off')\n",
        "    \n",
        "    label = LABEL_NAMES[np.argmax(predictions[i])]\n",
        "    confidence = np.max(predictions[i])\n",
        "    if i > n:\n",
        "      continue\n",
        "    axes[x, y].imshow(images[i])\n",
        "    axes[x, y].text(0.5, 0.5, label + '\\n%.3f' % confidence, fontsize=14)\n",
        "\n",
        "  pyplot.gcf().set_size_inches(8, 8)  \n",
        "\n",
        "plot_predictions(np.squeeze(valid_set[:16]), \n",
        "                 trash_sorter.predict(valid_set[:16]))"
      ],
      "execution_count": 0,
      "outputs": [
        {
          "output_type": "display_data",
          "data": {
            "image/png": "[encoded data removed]",
            "text/plain": [
              "<Figure size 576x576 with 16 Axes>"
            ]
          },
          "metadata": {
            "tags": []
          }
        }
      ]
    },
    {
      "cell_type": "code",
      "metadata": {
        "id": "cQXSTsQkpqQG",
        "colab_type": "code",
        "outputId": "efb8f0ab-d949-4049-d453-beba8919670e",
        "colab": {
          "base_uri": "https://localhost:8080/",
          "height": 45
        }
      },
      "source": [
        "haha = cv2.imread('/content/haha.jpg',0)\n",
        "haha = cv2.resize(haha, (28,28), interpolation=cv2.INTER_NEAREST)\n",
        "hahaimg = Image.fromarray(haha)\n",
        "display(hahaimg)\n",
        "hahaha = np.array([haha])\n",
        "hahaha = hahaha.reshape(1,28,28,1)"
      ],
      "execution_count": 0,
      "outputs": [
        {
          "output_type": "display_data",
          "data": {
            "image/png": "[encoded data removed]",
            "text/plain": [
              "<PIL.Image.Image image mode=L size=28x28 at 0x7F8CE862E208>"
            ]
          },
          "metadata": {
            "tags": []
          }
        }
      ]
    },
    {
      "cell_type": "code",
      "metadata": {
        "id": "BUqCi5sE_bUe",
        "colab_type": "code",
        "colab": {}
      },
      "source": [
        "pr = trash_sorter.predict(hahaha)"
      ],
      "execution_count": 0,
      "outputs": []
    },
    {
      "cell_type": "code",
      "metadata": {
        "id": "ZA9nwf39Dnfs",
        "colab_type": "code",
        "outputId": "fc5b0a66-eb56-495c-8619-d0a9eafba853",
        "colab": {
          "base_uri": "https://localhost:8080/",
          "height": 34
        }
      },
      "source": [
        "lab = LABEL_NAMES[np.argmax(pr)]\n",
        "confidence = np.max(pr)\n",
        "print(confidence, lab)"
      ],
      "execution_count": 0,
      "outputs": [
        {
          "output_type": "stream",
          "text": [
            "0.35993212 metal\n"
          ],
          "name": "stdout"
        }
      ]
    },
    {
      "cell_type": "code",
      "metadata": {
        "id": "NKFeu7IVFLKk",
        "colab_type": "code",
        "colab": {}
      },
      "source": [
        ""
      ],
      "execution_count": 0,
      "outputs": []
    }
  ]
}